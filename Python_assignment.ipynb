{
 "cells": [
  {
   "cell_type": "markdown",
   "metadata": {},
   "source": [
    "**1. Write a program which will find all such numbers which are divisible by 7 but are not a multiple of 5, between 2000 and 3200 (both included). The numbers obtained should be printed in a comma-separated sequence on a single line.**"
   ]
  },
  {
   "cell_type": "code",
   "execution_count": 31,
   "metadata": {},
   "outputs": [],
   "source": [
    "def divisor(start_num, end_number, divisor_1 = 7, divisor_2 = 5):\n",
    "    '''\n",
    "    \n",
    "    start_num: first number of the range: Int\n",
    "    end_num: last number of the range, inclusive: Int\n",
    "    divisor_1: Int; default = 7\n",
    "    divisor_2: Int; default = 5\n",
    "    \n",
    "    Returns the numbers in the given range, which are divisible by divisor_1\n",
    "    and not divisible by divisor_2\n",
    "    '''\n",
    "    \n",
    "    a = []\n",
    "    if divisor_1 == 0 or divisor_2 == 0:\n",
    "        return \"ZeroDivisionError: please check the divisors value\"\n",
    "    else:\n",
    "        for x in range(start_num, end_number+1):\n",
    "            if x%divisor_1 ==0 and x%divisor_2 !=0:\n",
    "                a.append(x)\n",
    "        return a"
   ]
  },
  {
   "cell_type": "code",
   "execution_count": 37,
   "metadata": {},
   "outputs": [
    {
     "data": {
      "text/plain": [
       "'2002,2009,2016,2023,2037,2044,2051,2058,2072,2079,2086,2093,2107,2114,2121,2128,2142,2149,2156,2163,2177,2184,2191,2198,2212,2219,2226,2233,2247,2254,2261,2268,2282,2289,2296,2303,2317,2324,2331,2338,2352,2359,2366,2373,2387,2394,2401,2408,2422,2429,2436,2443,2457,2464,2471,2478,2492,2499,2506,2513,2527,2534,2541,2548,2562,2569,2576,2583,2597,2604,2611,2618,2632,2639,2646,2653,2667,2674,2681,2688,2702,2709,2716,2723,2737,2744,2751,2758,2772,2779,2786,2793,2807,2814,2821,2828,2842,2849,2856,2863,2877,2884,2891,2898,2912,2919,2926,2933,2947,2954,2961,2968,2982,2989,2996,3003,3017,3024,3031,3038,3052,3059,3066,3073,3087,3094,3101,3108,3122,3129,3136,3143,3157,3164,3171,3178,3192,3199'"
      ]
     },
     "execution_count": 37,
     "metadata": {},
     "output_type": "execute_result"
    }
   ],
   "source": [
    "a = divisor(2000, 3200, 7, 5)\n",
    "#print results\n",
    "\",\".join(\"{0}\".format(n) for n in a)"
   ]
  },
  {
   "cell_type": "markdown",
   "metadata": {},
   "source": [
    "**2. Write a Python program to accept the user's first and last name and then getting them printed in the the reverse order with a space between first name and last name.**"
   ]
  },
  {
   "cell_type": "code",
   "execution_count": 72,
   "metadata": {},
   "outputs": [],
   "source": [
    "def name_reverse():\n",
    "    first_name = input(\"Please enter your first name: \")\n",
    "    last_name = input(\"Please enter your last name: \")\n",
    "    reverse_name = last_name + \" \" + first_name\n",
    "    return reverse_name\n"
   ]
  },
  {
   "cell_type": "code",
   "execution_count": 73,
   "metadata": {},
   "outputs": [
    {
     "name": "stdout",
     "output_type": "stream",
     "text": [
      "Please enter your first name: Neha\n",
      "Please enter your last name: Mangal\n"
     ]
    },
    {
     "data": {
      "text/plain": [
       "'Mangal Neha'"
      ]
     },
     "execution_count": 73,
     "metadata": {},
     "output_type": "execute_result"
    }
   ],
   "source": [
    "#example\n",
    "name_reverse()"
   ]
  },
  {
   "cell_type": "raw",
   "metadata": {},
   "source": [
    "#extension of the name reversal\n",
    "def name_reverse_all():\n",
    "    '''\n",
    "    Returns the whole name reversed as charachters. \n",
    "    For Example, if input is 'John Doe', it will return\n",
    "    e,o,D, ,n,h,o,J\n",
    "    '''\n",
    "    first_name = input(\"Please enter your first name: \")\n",
    "    last_name = input(\"Please enter your last name: \")\n",
    "    full_name = first_name + \" \" + last_name\n",
    "    name_array = list(full_name)\n",
    "    for i in range(int(len(name_array)/2)):\n",
    "        name_array[i], name_array[len(name_array)-1-i] =  name_array[len(name_array)-1-i], name_array[i]\n",
    "    \n",
    "    return name_array"
   ]
  },
  {
   "cell_type": "raw",
   "metadata": {},
   "source": [
    "name_reverse_all()"
   ]
  },
  {
   "cell_type": "markdown",
   "metadata": {},
   "source": [
    "**3. Write a Python program to find the volume of a sphere with diameter 12 cm.\n",
    "Formula: V=4/3 * π * r 3**"
   ]
  },
  {
   "cell_type": "code",
   "execution_count": 87,
   "metadata": {},
   "outputs": [],
   "source": [
    "import math\n",
    "def vol_sphere(r):\n",
    "    '''\n",
    "    r = radius, numeric (cm)\n",
    "    returns the volume of the sphere in cm^3'''\n",
    "    return round(4*math.pi*r**3, 3)"
   ]
  },
  {
   "cell_type": "code",
   "execution_count": 85,
   "metadata": {},
   "outputs": [
    {
     "data": {
      "text/plain": [
       "2714.336"
      ]
     },
     "execution_count": 85,
     "metadata": {},
     "output_type": "execute_result"
    }
   ],
   "source": [
    "r = 12/2\n",
    "vol_sphere(r)"
   ]
  },
  {
   "cell_type": "code",
   "execution_count": null,
   "metadata": {},
   "outputs": [],
   "source": []
  }
 ],
 "metadata": {
  "kernelspec": {
   "display_name": "Python 3",
   "language": "python",
   "name": "python3"
  },
  "language_info": {
   "codemirror_mode": {
    "name": "ipython",
    "version": 3
   },
   "file_extension": ".py",
   "mimetype": "text/x-python",
   "name": "python",
   "nbconvert_exporter": "python",
   "pygments_lexer": "ipython3",
   "version": "3.8.5"
  }
 },
 "nbformat": 4,
 "nbformat_minor": 4
}
